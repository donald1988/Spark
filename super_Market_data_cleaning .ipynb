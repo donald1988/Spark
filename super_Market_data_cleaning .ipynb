{
 "cells": [
  {
   "cell_type": "code",
   "execution_count": 1,
   "metadata": {},
   "outputs": [],
   "source": [
    "from pyspark.sql import SparkSession"
   ]
  },
  {
   "cell_type": "code",
   "execution_count": 2,
   "metadata": {},
   "outputs": [],
   "source": [
    "spark = SparkSession.builder.appName('test').getOrCreate()"
   ]
  },
  {
   "cell_type": "code",
   "execution_count": 3,
   "metadata": {},
   "outputs": [
    {
     "data": {
      "text/html": [
       "\n",
       "            <div>\n",
       "                <p><b>SparkSession - in-memory</b></p>\n",
       "                \n",
       "        <div>\n",
       "            <p><b>SparkContext</b></p>\n",
       "\n",
       "            <p><a href=\"http://LAPTOP-55TGNN8T:4040\">Spark UI</a></p>\n",
       "\n",
       "            <dl>\n",
       "              <dt>Version</dt>\n",
       "                <dd><code>v3.3.1</code></dd>\n",
       "              <dt>Master</dt>\n",
       "                <dd><code>local[*]</code></dd>\n",
       "              <dt>AppName</dt>\n",
       "                <dd><code>test</code></dd>\n",
       "            </dl>\n",
       "        </div>\n",
       "        \n",
       "            </div>\n",
       "        "
      ],
      "text/plain": [
       "<pyspark.sql.session.SparkSession at 0x1d485da76d0>"
      ]
     },
     "execution_count": 3,
     "metadata": {},
     "output_type": "execute_result"
    }
   ],
   "source": [
    "spark"
   ]
  },
  {
   "cell_type": "code",
   "execution_count": 6,
   "metadata": {},
   "outputs": [],
   "source": [
    "df_spark = spark.read.csv('supermarket.csv', header=True, inferSchema=True)"
   ]
  },
  {
   "cell_type": "code",
   "execution_count": 8,
   "metadata": {},
   "outputs": [
    {
     "name": "stdout",
     "output_type": "stream",
     "text": [
      "+-----------+------+---------+-------------+------+--------------------+----------+--------+-------+--------+---------+-------------------+-----------+------+-----------------------+------------+------+\n",
      "| Invoice ID|Branch|     City|Customer type|Gender|        Product line|Unit price|Quantity| Tax 5%|   Total|     Date|               Time|    Payment|  cogs|gross margin percentage|gross income|Rating|\n",
      "+-----------+------+---------+-------------+------+--------------------+----------+--------+-------+--------+---------+-------------------+-----------+------+-----------------------+------------+------+\n",
      "|750-67-8428|     A|   Yangon|       Member|Female|   Health and beauty|     74.69|       7|26.1415|548.9715| 1/5/2019|2022-11-16 13:08:00|    Ewallet|522.83|            4.761904762|     26.1415|   9.1|\n",
      "|226-31-3081|     C|Naypyitaw|       Normal|Female|Electronic access...|     15.28|       5|   3.82|   80.22| 3/8/2019|2022-11-16 10:29:00|       Cash|  76.4|            4.761904762|        3.82|   9.6|\n",
      "|631-41-3108|     A|   Yangon|       Normal|  Male|  Home and lifestyle|     46.33|       7|16.2155|340.5255| 3/3/2019|2022-11-16 13:23:00|Credit card|324.31|            4.761904762|     16.2155|   7.4|\n",
      "|123-19-1176|     A|   Yangon|       Member|  Male|   Health and beauty|     58.22|       8| 23.288| 489.048|1/27/2019|2022-11-16 20:33:00|    Ewallet|465.76|            4.761904762|      23.288|   8.4|\n",
      "|373-73-7910|     A|   Yangon|       Normal|  Male|   Sports and travel|     86.31|       7|30.2085|634.3785| 2/8/2019|2022-11-16 10:37:00|    Ewallet|604.17|            4.761904762|     30.2085|   5.3|\n",
      "+-----------+------+---------+-------------+------+--------------------+----------+--------+-------+--------+---------+-------------------+-----------+------+-----------------------+------------+------+\n",
      "only showing top 5 rows\n",
      "\n"
     ]
    }
   ],
   "source": [
    "df_spark.show(5)"
   ]
  },
  {
   "cell_type": "code",
   "execution_count": 14,
   "metadata": {},
   "outputs": [
    {
     "name": "stdout",
     "output_type": "stream",
     "text": [
      "+---------+-------------+------+\n",
      "|     city|customer type|gender|\n",
      "+---------+-------------+------+\n",
      "|   Yangon|       Member|Female|\n",
      "|Naypyitaw|       Normal|Female|\n",
      "|   Yangon|       Normal|  Male|\n",
      "|   Yangon|       Member|  Male|\n",
      "|   Yangon|       Normal|  Male|\n",
      "+---------+-------------+------+\n",
      "only showing top 5 rows\n",
      "\n"
     ]
    }
   ],
   "source": [
    "df_spark.select(['city','customer type', 'gender' ]).show(5)"
   ]
  },
  {
   "cell_type": "code",
   "execution_count": 13,
   "metadata": {
    "scrolled": true
   },
   "outputs": [
    {
     "data": {
      "text/plain": [
       "[('Invoice ID', 'string'),\n",
       " ('Branch', 'string'),\n",
       " ('City', 'string'),\n",
       " ('Customer type', 'string'),\n",
       " ('Gender', 'string'),\n",
       " ('Product line', 'string'),\n",
       " ('Unit price', 'double'),\n",
       " ('Quantity', 'int'),\n",
       " ('Tax 5%', 'double'),\n",
       " ('Total', 'double'),\n",
       " ('Date', 'string'),\n",
       " ('Time', 'timestamp'),\n",
       " ('Payment', 'string'),\n",
       " ('cogs', 'double'),\n",
       " ('gross margin percentage', 'double'),\n",
       " ('gross income', 'double'),\n",
       " ('Rating', 'double')]"
      ]
     },
     "execution_count": 13,
     "metadata": {},
     "output_type": "execute_result"
    }
   ],
   "source": [
    "df_spark.dtypes"
   ]
  },
  {
   "cell_type": "code",
   "execution_count": 16,
   "metadata": {},
   "outputs": [
    {
     "data": {
      "text/plain": [
       "['Invoice ID',\n",
       " 'Branch',\n",
       " 'City',\n",
       " 'Customer type',\n",
       " 'Gender',\n",
       " 'Product line',\n",
       " 'Unit price',\n",
       " 'Quantity',\n",
       " 'Tax 5%',\n",
       " 'Total',\n",
       " 'Date',\n",
       " 'Time',\n",
       " 'Payment',\n",
       " 'cogs',\n",
       " 'gross margin percentage',\n",
       " 'gross income',\n",
       " 'Rating']"
      ]
     },
     "execution_count": 16,
     "metadata": {},
     "output_type": "execute_result"
    }
   ],
   "source": [
    "df_spark.columns"
   ]
  },
  {
   "cell_type": "code",
   "execution_count": 18,
   "metadata": {},
   "outputs": [
    {
     "name": "stdout",
     "output_type": "stream",
     "text": [
      "+-------+--------+-------------+------+\n",
      "|summary|    city|customer type|gender|\n",
      "+-------+--------+-------------+------+\n",
      "|  count|    1000|         1000|  1000|\n",
      "|   mean|    null|         null|  null|\n",
      "| stddev|    null|         null|  null|\n",
      "|    min|Mandalay|       Member|Female|\n",
      "|    max|  Yangon|       Normal|  Male|\n",
      "+-------+--------+-------------+------+\n",
      "\n"
     ]
    }
   ],
   "source": [
    "df_spark.select(['city','customer type', 'gender' ]).describe().show(5)"
   ]
  },
  {
   "cell_type": "code",
   "execution_count": 19,
   "metadata": {},
   "outputs": [
    {
     "name": "stdout",
     "output_type": "stream",
     "text": [
      "+-----------+------+---------+--------+------+--------------------+----------+--------+-------+--------+---------+-------------------+-----------+------+-----------------------+------------+------+\n",
      "| Invoice ID|Branch|     City|customer|Gender|        Product line|Unit price|Quantity| Tax 5%|   Total|     Date|               Time|    Payment|  cogs|gross margin percentage|gross income|Rating|\n",
      "+-----------+------+---------+--------+------+--------------------+----------+--------+-------+--------+---------+-------------------+-----------+------+-----------------------+------------+------+\n",
      "|750-67-8428|     A|   Yangon|  Member|Female|   Health and beauty|     74.69|       7|26.1415|548.9715| 1/5/2019|2022-11-16 13:08:00|    Ewallet|522.83|            4.761904762|     26.1415|   9.1|\n",
      "|226-31-3081|     C|Naypyitaw|  Normal|Female|Electronic access...|     15.28|       5|   3.82|   80.22| 3/8/2019|2022-11-16 10:29:00|       Cash|  76.4|            4.761904762|        3.82|   9.6|\n",
      "|631-41-3108|     A|   Yangon|  Normal|  Male|  Home and lifestyle|     46.33|       7|16.2155|340.5255| 3/3/2019|2022-11-16 13:23:00|Credit card|324.31|            4.761904762|     16.2155|   7.4|\n",
      "|123-19-1176|     A|   Yangon|  Member|  Male|   Health and beauty|     58.22|       8| 23.288| 489.048|1/27/2019|2022-11-16 20:33:00|    Ewallet|465.76|            4.761904762|      23.288|   8.4|\n",
      "|373-73-7910|     A|   Yangon|  Normal|  Male|   Sports and travel|     86.31|       7|30.2085|634.3785| 2/8/2019|2022-11-16 10:37:00|    Ewallet|604.17|            4.761904762|     30.2085|   5.3|\n",
      "|699-14-3026|     C|Naypyitaw|  Normal|  Male|Electronic access...|     85.39|       7|29.8865|627.6165|3/25/2019|2022-11-16 18:30:00|    Ewallet|597.73|            4.761904762|     29.8865|   4.1|\n",
      "|355-53-5943|     A|   Yangon|  Member|Female|Electronic access...|     68.84|       6| 20.652| 433.692|2/25/2019|2022-11-16 14:36:00|    Ewallet|413.04|            4.761904762|      20.652|   5.8|\n",
      "|315-22-5665|     C|Naypyitaw|  Normal|Female|  Home and lifestyle|     73.56|      10|  36.78|  772.38|2/24/2019|2022-11-16 11:38:00|    Ewallet| 735.6|            4.761904762|       36.78|   8.0|\n",
      "|665-32-9167|     A|   Yangon|  Member|Female|   Health and beauty|     36.26|       2|  3.626|  76.146|1/10/2019|2022-11-16 17:15:00|Credit card| 72.52|            4.761904762|       3.626|   7.2|\n",
      "|692-92-5582|     B| Mandalay|  Member|Female|  Food and beverages|     54.84|       3|  8.226| 172.746|2/20/2019|2022-11-16 13:27:00|Credit card|164.52|            4.761904762|       8.226|   5.9|\n",
      "|351-62-0822|     B| Mandalay|  Member|Female| Fashion accessories|     14.48|       4|  2.896|  60.816| 2/6/2019|2022-11-16 18:07:00|    Ewallet| 57.92|            4.761904762|       2.896|   4.5|\n",
      "|529-56-3974|     B| Mandalay|  Member|  Male|Electronic access...|     25.51|       4|  5.102| 107.142| 3/9/2019|2022-11-16 17:03:00|       Cash|102.04|            4.761904762|       5.102|   6.8|\n",
      "|365-64-0515|     A|   Yangon|  Normal|Female|Electronic access...|     46.95|       5|11.7375|246.4875|2/12/2019|2022-11-16 10:25:00|    Ewallet|234.75|            4.761904762|     11.7375|   7.1|\n",
      "|252-56-2699|     A|   Yangon|  Normal|  Male|  Food and beverages|     43.19|      10| 21.595| 453.495| 2/7/2019|2022-11-16 16:48:00|    Ewallet| 431.9|            4.761904762|      21.595|   8.2|\n",
      "|829-34-3910|     A|   Yangon|  Normal|Female|   Health and beauty|     71.38|      10|  35.69|  749.49|3/29/2019|2022-11-16 19:21:00|       Cash| 713.8|            4.761904762|       35.69|   5.7|\n",
      "|299-46-1805|     B| Mandalay|  Member|Female|   Sports and travel|     93.72|       6| 28.116| 590.436|1/15/2019|2022-11-16 16:19:00|       Cash|562.32|            4.761904762|      28.116|   4.5|\n",
      "|656-95-9349|     A|   Yangon|  Member|Female|   Health and beauty|     68.93|       7|24.1255|506.6355|3/11/2019|2022-11-16 11:03:00|Credit card|482.51|            4.761904762|     24.1255|   4.6|\n",
      "|765-26-6951|     A|   Yangon|  Normal|  Male|   Sports and travel|     72.61|       6| 21.783| 457.443| 1/1/2019|2022-11-16 10:39:00|Credit card|435.66|            4.761904762|      21.783|   6.9|\n",
      "|329-62-1586|     A|   Yangon|  Normal|  Male|  Food and beverages|     54.67|       3| 8.2005|172.2105|1/21/2019|2022-11-16 18:00:00|Credit card|164.01|            4.761904762|      8.2005|   8.6|\n",
      "|319-50-3348|     B| Mandalay|  Normal|Female|  Home and lifestyle|      40.3|       2|   4.03|   84.63|3/11/2019|2022-11-16 15:30:00|    Ewallet|  80.6|            4.761904762|        4.03|   4.4|\n",
      "+-----------+------+---------+--------+------+--------------------+----------+--------+-------+--------+---------+-------------------+-----------+------+-----------------------+------------+------+\n",
      "only showing top 20 rows\n",
      "\n"
     ]
    }
   ],
   "source": [
    "df_spark.withColumnRenamed('customer type', 'customer').show()"
   ]
  },
  {
   "cell_type": "code",
   "execution_count": null,
   "metadata": {},
   "outputs": [],
   "source": [
    "df = "
   ]
  }
 ],
 "metadata": {
  "kernelspec": {
   "display_name": "Python 3",
   "language": "python",
   "name": "python3"
  },
  "language_info": {
   "codemirror_mode": {
    "name": "ipython",
    "version": 3
   },
   "file_extension": ".py",
   "mimetype": "text/x-python",
   "name": "python",
   "nbconvert_exporter": "python",
   "pygments_lexer": "ipython3",
   "version": "3.8.3"
  }
 },
 "nbformat": 4,
 "nbformat_minor": 4
}
